{
 "cells": [
  {
   "cell_type": "code",
   "execution_count": 1,
   "id": "6adae8d6",
   "metadata": {},
   "outputs": [],
   "source": [
    "import numpy as np\n",
    "import pandas as pd\n",
    "import matplotlib.pyplot as plt\n",
    "import seaborn as sns\n",
    "import requests"
   ]
  },
  {
   "cell_type": "code",
   "execution_count": 2,
   "id": "8db2bbeb",
   "metadata": {},
   "outputs": [],
   "source": [
    "#import csv from local save\n",
    "\n",
    "heart_disease = pd.read_csv('heart_disease.csv')\n",
    "#heart_disease.info() #to see which columns have missing data entries (Part 1) and datatype\n",
    "\n",
    "#Remove all rows with missing values (have only rows that have data values for all categories) - Part 1\n",
    "HD_rowremove=heart_disease.dropna()\n",
    "#HD_rowremove.info()"
   ]
  },
  {
   "cell_type": "code",
   "execution_count": 3,
   "id": "8a8d9e3b",
   "metadata": {},
   "outputs": [],
   "source": [
    "#Part 2, remove the columns that are irrelavent to the question \n",
    "cleaned_HD= HD_rowremove.drop(columns=['Sex','Chest Pain','Trestbps','Chol','Fbs','Restecg','Thalach','Exang','Oldpeak','Ca','Thal'])\n",
    "#cleaned_HD.info() #check the columns after removing "
   ]
  },
  {
   "cell_type": "code",
   "execution_count": 4,
   "id": "4aa7b960",
   "metadata": {},
   "outputs": [],
   "source": [
    "#convert these specific categories' arguements into a numeric type of float or int, setting to 'coerce' error (Part 2)\n",
    "cleaned_HD[\"Age\"]=pd.to_numeric(cleaned_HD[\"Age\"],errors='coerce') #since this is in object, must convert to numeric float\n",
    "cleaned_HD[\"Slope\"]=pd.to_numeric(cleaned_HD[\"Slope\"],errors='coerce') #object, must convert\n",
    "#cleaned_HD.dtypes"
   ]
  },
  {
   "cell_type": "code",
   "execution_count": 5,
   "id": "dddb4831",
   "metadata": {},
   "outputs": [],
   "source": [
    "pd.options.display.float_format='{:.3f}'.format"
   ]
  },
  {
   "cell_type": "code",
   "execution_count": 6,
   "id": "e2029837",
   "metadata": {},
   "outputs": [],
   "source": [
    "#Remove entire rows with missing data points above to get complete dataset \n",
    "cleaned_HD_null=cleaned_HD.dropna()\n",
    "#cleaned_HD_null.describe()"
   ]
  },
  {
   "cell_type": "code",
   "execution_count": 7,
   "id": "55619e0c",
   "metadata": {},
   "outputs": [],
   "source": [
    "column = cleaned_HD_null[\"Age\"]\n",
    "max_value = column.max() \n",
    "#print(max_value)"
   ]
  },
  {
   "cell_type": "code",
   "execution_count": 8,
   "id": "694cbf95",
   "metadata": {},
   "outputs": [],
   "source": [
    "Age1 = (0<cleaned_HD_null.Age)&(cleaned_HD_null.Age<90) #Age requirements for Q3\n",
    "Slope = (cleaned_HD_null.Slope>=1)&(cleaned_HD_null.Slope<=3)"
   ]
  },
  {
   "cell_type": "code",
   "execution_count": 9,
   "id": "020ad3dc",
   "metadata": {},
   "outputs": [],
   "source": [
    "#Obtain values with limitations of Age and slope defined above \n",
    "\n",
    "cleaned_HD=cleaned_HD_null[Age1 & Slope]\n",
    "#cleaned_HD.describe()"
   ]
  },
  {
   "cell_type": "code",
   "execution_count": 10,
   "id": "6296af11",
   "metadata": {},
   "outputs": [],
   "source": [
    "#Part 4\n",
    "#Ages variable with their conditions \n",
    "Age2 = cleaned_HD_null[(cleaned_HD_null.Age<=40)&(cleaned_HD_null.Age>0)&Slope]\n",
    "Age3 = cleaned_HD_null[(cleaned_HD_null.Age>=41)&(cleaned_HD_null.Age<=50)&Slope]\n",
    "Age4 = cleaned_HD_null[(cleaned_HD_null.Age>=51)&(cleaned_HD_null.Age<=60)&Slope]\n",
    "Age5 = cleaned_HD_null[(cleaned_HD_null.Age>60)&Slope]\n",
    "\n",
    "#\"1\" = Ages <= 40\n",
    "#\"2\" = Ages >= 41 & <= 50\n",
    "#\"3\" = Ages >= 51 & <= 60\n",
    "#\"4\" = Ages > 60\n",
    "\n",
    "#dataframe variable that has different categories of ages \n",
    "Age_Category = pd.DataFrame({\"Ages <= 40\": Age2.Age, \" Ages >= 41 & <= 50\": Age3.Age, \"Ages >= 51 & <= 60\": Age4.Age, \"Ages > 60\": Age5.Age})\n",
    "Age_Category_Slope = pd.DataFrame({\"Ages <= 40\": Age2.Slope, \" Ages >= 41 & <= 50\": Age3.Slope, \"Ages >= 51 & <= 60\": Age4.Slope, \"Ages > 60\": Age5.Slope})\n",
    "\n",
    "#Test to see if object can provide correct count, mean, etc. \n",
    "#cleaned_HD=cleaned_HD_null[df_Age[\"1\"] & Slope]\n",
    "#cleaned_HD.describe()"
   ]
  },
  {
   "cell_type": "code",
   "execution_count": 11,
   "id": "416b0403",
   "metadata": {},
   "outputs": [
    {
     "data": {
      "text/plain": [
       "<Figure size 432x288 with 0 Axes>"
      ]
     },
     "metadata": {},
     "output_type": "display_data"
    },
    {
     "data": {
      "image/png": "[encoded data removed]",
      "text/plain": [
       "<Figure size 432x288 with 1 Axes>"
      ]
     },
     "metadata": {
      "needs_background": "light"
     },
     "output_type": "display_data"
    }
   ],
   "source": [
    "#Create Figures \n",
    "\n",
    "\n",
    "#histogram plot for age category \n",
    "fig1 = plt.figure()\n",
    "ax = Age_Category.plot.hist()\n",
    "plt.title('Vibes', size=13)\n",
    "plt.savefig('AgeCategoryHistogramQ2.jpg', dpi=300, format='jpg', bbox_inches = 'tight', transparent='false')\n",
    "plt.show()\n",
    "\n",
    "#histogram plot for "
   ]
  },
  {
   "cell_type": "code",
   "execution_count": null,
   "id": "9be61436",
   "metadata": {},
   "outputs": [],
   "source": []
  }
 ],
 "metadata": {
  "kernelspec": {
   "display_name": "Python 3 (ipykernel)",
   "language": "python",
   "name": "python3"
  },
  "language_info": {
   "codemirror_mode": {
    "name": "ipython",
    "version": 3
   },
   "file_extension": ".py",
   "mimetype": "text/x-python",
   "name": "python",
   "nbconvert_exporter": "python",
   "pygments_lexer": "ipython3",
   "version": "3.8.12"
  }
 },
 "nbformat": 4,
 "nbformat_minor": 5
}
