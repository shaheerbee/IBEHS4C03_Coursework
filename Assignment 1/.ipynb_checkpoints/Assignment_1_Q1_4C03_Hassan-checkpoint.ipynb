{
 "cells": [
  {
   "cell_type": "code",
   "execution_count": 7,
   "id": "dc4a0f29",
   "metadata": {},
   "outputs": [],
   "source": [
    "import numpy as np\n",
    "import pandas as pd\n",
    "import matplotlib.pyplot as plt\n",
    "import seaborn as sns"
   ]
  },
  {
   "cell_type": "code",
   "execution_count": 8,
   "id": "54252278",
   "metadata": {},
   "outputs": [
    {
     "name": "stdout",
     "output_type": "stream",
     "text": [
      "    Id  Dur_stay  Age  Sex  Temp  WBC  Antibio  Bact_cul  Service\n",
      "0    1         5   30    2  99.0    8        0         2        1\n",
      "1    2        10   73    2  98.0    5        0         1        1\n",
      "2    3         6   40    2  99.0   12        0         2        2\n",
      "3    4        11   47    2  98.2    4        0         2        2\n",
      "4    5         5   25    2  98.5   11        0         2        2\n",
      "5    6        14   82    1  96.8    6        1         2        2\n",
      "6    7        30   60    1  99.5    8        1         1        1\n",
      "7    8        11   56    2  98.6    7        0         2        1\n",
      "8    9        17   43    2  98.0    7        0         2        1\n",
      "9   10         3   50    1  98.0   12        0         1        2\n",
      "10  11         9   59    2  97.6    7        0         1        1\n",
      "11  12         3    4    1  97.8    3        0         2        2\n",
      "12  13         8   22    2  99.5   11        1         2        2\n",
      "13  14         8   33    2  98.4   14        1         1        2\n",
      "14  15         5   20    2  98.4   11        0         1        2\n",
      "15  16         5   32    1  99.0    9        0         2        2\n",
      "16  17         7   36    1  99.2    6        1         2        2\n",
      "17  18         4   69    1  98.0    6        0         2        2\n",
      "18  19         3   47    1  97.0    5        1         2        1\n",
      "19  20         7   22    1  98.2    6        0         2        2\n",
      "20  21         9   11    1  98.2   10        0         2        2\n",
      "21  22        11   19    1  98.6   14        1         2        2\n",
      "22  23        11   67    2  97.6    4        0         2        1\n",
      "23  24         9   43    2  98.6    5        0         2        2\n",
      "24  25         4   41    2  98.0    5        0         2        1\n"
     ]
    }
   ],
   "source": [
    "import requests\n",
    "download_url= \"https://raw.githubusercontent.com/cbassim/IBEHS_4C03_Winter22/main/Assignment%201/Hospital.csv\"\n",
    "target_csv_path = \"hospital.csv\"\n",
    "response = requests.get(download_url)\n",
    "response.raise_for_status()\n",
    "with open(target_csv_path, \"wb\") as f:\n",
    "    f.write(response.content)\n",
    "#print (\"download ready\")\n",
    "all_boards = pd.read_csv('hospital.csv')\n",
    "\n",
    "\n",
    "print (all_boards)"
   ]
  },
  {
   "cell_type": "code",
   "execution_count": 9,
   "id": "deb0cbd3",
   "metadata": {},
   "outputs": [
    {
     "name": "stdout",
     "output_type": "stream",
     "text": [
      "    Dur_stay  Antibio\n",
      "5         14        1\n",
      "6         30        1\n",
      "12         8        1\n",
      "13         8        1\n",
      "16         7        1\n",
      "18         3        1\n",
      "21        11        1\n",
      "    Dur_stay  Antibio\n",
      "0          5        0\n",
      "1         10        0\n",
      "2          6        0\n",
      "3         11        0\n",
      "4          5        0\n",
      "7         11        0\n",
      "8         17        0\n",
      "9          3        0\n",
      "10         9        0\n",
      "11         3        0\n",
      "14         5        0\n",
      "15         5        0\n",
      "17         4        0\n",
      "19         7        0\n",
      "20         9        0\n",
      "22        11        0\n",
      "23         9        0\n",
      "24         4        0\n",
      "[14, 30, 8, 8, 7, 3, 11]\n",
      "[5, 10, 6, 11, 5, 11, 17, 3, 9, 3, 5, 5, 4, 7, 9, 11, 9, 4]\n",
      "the standard deviation of the stay duration the patients taking antibiotics is  8.16 \n",
      "\n",
      "the mean of the stay duration of the patients taking antibiotics is  11.57 \n",
      "\n",
      "the variance of the stay duration of the patients taking antibiotics is  66.53 \n",
      "\n",
      "the 5 number summary info of min,Q1,median,Q3,max are as follows 3 [ 7.5  8.  12.5] 30\n",
      "the mean of stay duration of the patients not taking antibiotics is  7.44 \n",
      "\n",
      "the standard deviation of the patients not taking antibiotics is  3.59 \n",
      "\n",
      "the variance of the stay duration of the patients not taking antibiotiks is  12.91 \n",
      "\n",
      "the 5 number summary info of min,Q1,median,Q3,max are as follows 3 [5.  6.5 9.5] 17\n"
     ]
    },
    {
     "name": "stderr",
     "output_type": "stream",
     "text": [
      "/var/folders/sr/86gs7_1919s2gg4sthkwfh780000gn/T/ipykernel_17381/2622281433.py:20: DeprecationWarning: the `interpolation=` argument to percentile was renamed to `method=`, which has additional options.\n",
      "Users of the modes 'nearest', 'lower', 'higher', or 'midpoint' are encouraged to review the method they. (Deprecated NumPy 1.22)\n",
      "  print (\"the 5 number summary info of min,Q1,median,Q3,max are as follows\",min(ttt),np.percentile(ttt,[25,50,75],interpolation='midpoint'),max(ttt))\n",
      "/var/folders/sr/86gs7_1919s2gg4sthkwfh780000gn/T/ipykernel_17381/2622281433.py:25: DeprecationWarning: the `interpolation=` argument to percentile was renamed to `method=`, which has additional options.\n",
      "Users of the modes 'nearest', 'lower', 'higher', or 'midpoint' are encouraged to review the method they. (Deprecated NumPy 1.22)\n",
      "  print (\"the 5 number summary info of min,Q1,median,Q3,max are as follows\",min(fff),np.percentile(fff,[25,50,75],interpolation='midpoint'),max(fff))\n"
     ]
    },
    {
     "data": {
      "image/png": "[encoded data removed]",
      "text/plain": [
       "<Figure size 432x288 with 2 Axes>"
      ]
     },
     "metadata": {
      "needs_background": "light"
     },
     "output_type": "display_data"
    },
    {
     "data": {
      "image/png": "[encoded data removed]",
      "text/plain": [
       "<Figure size 720x576 with 1 Axes>"
      ]
     },
     "metadata": {
      "needs_background": "light"
     },
     "output_type": "display_data"
    }
   ],
   "source": [
    "boards_cleaned= all_boards.drop(columns=['Age', 'Id', 'Sex', 'Temp', 'WBC','Bact_cul', 'Service'])\n",
    "#print (boards_cleaned)\n",
    "yes_antibody= boards_cleaned.loc[boards_cleaned['Antibio']>0]\n",
    "no_antibody=boards_cleaned.loc[boards_cleaned['Antibio']<1]\n",
    "print (yes_antibody)\n",
    "print (no_antibody)\n",
    "\n",
    "ab_1=pd.DataFrame(yes_antibody)\n",
    "ab_2=pd.DataFrame(no_antibody)\n",
    "\n",
    "ttt= ab_1['Dur_stay'].values.tolist()\n",
    "\n",
    "fff=ab_2['Dur_stay'].values.tolist()\n",
    "print (ttt)\n",
    "print (fff)\n",
    "\n",
    "print (\"the standard deviation of the stay duration the patients taking antibiotics is \", (round(np.std(ttt),2)),\"\\n\")\n",
    "print (\"the mean of the stay duration of the patients taking antibiotics is \",(round(np.mean(ttt),2)),\"\\n\")\n",
    "print (\"the variance of the stay duration of the patients taking antibiotics is \",(round(np.var(ttt),2)),\"\\n\")\n",
    "print (\"the 5 number summary info of min,Q1,median,Q3,max are as follows\",min(ttt),np.percentile(ttt,[25,50,75],interpolation='midpoint'),max(ttt))\n",
    "\n",
    "print (\"the mean of stay duration of the patients not taking antibiotics is \",(round(np.mean(fff),2)),\"\\n\")\n",
    "print (\"the standard deviation of the patients not taking antibiotics is \",(round(np.std(fff),2)),\"\\n\")\n",
    "print (\"the variance of the stay duration of the patients not taking antibiotiks is \",(round( np.var(fff),2)),\"\\n\")\n",
    "print (\"the 5 number summary info of min,Q1,median,Q3,max are as follows\",min(fff),np.percentile(fff,[25,50,75],interpolation='midpoint'),max(fff))\n",
    "\n",
    "\n",
    "fig, ax=plt.subplots(nrows=1, ncols=2)\n",
    "plt.yticks(np.arange(0,30,3))\n",
    "\n",
    "ax[0].boxplot(ttt)\n",
    "\n",
    "ax[1].boxplot(fff)\n",
    "\n",
    "hist_a=np.array(ttt)\n",
    "fig, ax=plt.subplots(figsize=(10,8))\n",
    "ax.hist(hist_a,bins=[0,5,10,15,20,25,30])\n",
    "plt.show()\n",
    "\n",
    "\n"
   ]
  },
  {
   "cell_type": "code",
   "execution_count": null,
   "id": "00c528ba",
   "metadata": {},
   "outputs": [],
   "source": []
  }
 ],
 "metadata": {
  "kernelspec": {
   "display_name": "Python 3 (ipykernel)",
   "language": "python",
   "name": "python3"
  },
  "language_info": {
   "codemirror_mode": {
    "name": "ipython",
    "version": 3
   },
   "file_extension": ".py",
   "mimetype": "text/x-python",
   "name": "python",
   "nbconvert_exporter": "python",
   "pygments_lexer": "ipython3",
   "version": "3.8.12"
  }
 },
 "nbformat": 4,
 "nbformat_minor": 5
}
