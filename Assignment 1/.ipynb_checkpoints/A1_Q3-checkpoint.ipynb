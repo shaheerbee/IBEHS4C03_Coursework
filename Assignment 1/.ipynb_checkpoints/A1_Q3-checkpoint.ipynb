{
 "cells": [
  {
   "cell_type": "code",
   "execution_count": null,
   "id": "61e576c3",
   "metadata": {},
   "outputs": [],
   "source": [
    "#APPENDIX C\n",
    "\n",
    "#hassas48, 400188482, Shaheer Hassan\n",
    "import numpy as np\n",
    "import pandas as pd\n",
    "import matplotlib.pyplot as plt\n",
    "import seaborn as sns\n",
    "import requests\n",
    "\n",
    "#read covidcases csv file from folder\n",
    "covidcases = pd.read_csv('covidcases.csv')\n",
    "\n",
    "#replace all the '_' in the columns with a ' '\n",
    "covidcases.columns = covidcases.columns.str.replace('[_]', ' ')\n",
    "\n",
    "#fill all NA values with an int value of 0\n",
    "remove_null=covidcases.fillna(0)\n",
    "#remove_null.info\n",
    "\n",
    "#Cleaning Files Steps to format files for time series (halton)\n",
    "\n",
    "cleaned=remove_null.drop(remove_null.columns[[range(1,9,1)]], axis=1)\n",
    "cleaned_1=cleaned.drop(remove_null.columns[[range(10,36)]], axis=1)\n",
    "cleaned_halton=cleaned_1.drop(labels=range(0,648),axis=0)\n",
    "cleaned_halton.reset_index(drop=True, inplace=True)\n",
    "\n",
    "#cleaning files step for format files for time series (hamilton) \n",
    "\n",
    "cleaned_hamilton = remove_null.drop(remove_null.columns[[range(1,10,1)]], axis=1)\n",
    "cleaned_hamilton1 = cleaned_hamilton.drop(remove_null.columns[[range(11,36)]],axis=1)\n",
    "cleaned_hamilton2=cleaned_hamilton1.drop(labels=range(0,648),axis=0)\n",
    "cleaned_hamilton2.reset_index(drop=True, inplace=True)\n",
    "\n",
    "\n",
    "#Format dataframe to calculate means for all municipalities for bar graph \n",
    "cleaned_mean=remove_null.drop(remove_null.columns[[0,35]],axis=1)\n",
    "mean=cleaned_mean.mean() # calculate mean value of all the covid cases for each municipality \n",
    "mean=mean.sort_values(ascending=False) # sort all series values in ascending order for a horizontal graph (see below)"
   ]
  },
  {
   "cell_type": "code",
   "execution_count": null,
   "id": "5db7c415",
   "metadata": {},
   "outputs": [],
   "source": [
    "#Graphing Code \n",
    "plt.close('all')\n",
    "fig1 = plt.figure()\n",
    "bar_graph=mean.plot.barh(figsize=(7,9), fontsize=10, color='green', rot=0)\n",
    "plt.ylabel(\"Municipality\",size=14)\n",
    "plt.xlabel(\"Number of COVID Cases\", size=14)\n",
    "plt.title(\"Average Number of COVID Cases by Municipalities\", size=15)\n",
    "plt.savefig('BarplotQ3.jpg', dpi=300, format='jpg', bbox_inches = 'tight', transparent='false')\n",
    "plt.show()\n",
    "\n",
    "fig2, axes = plt.subplots(2, sharex=True, sharey=True, figsize=(9,6), linewidth=1)\n",
    "cleaned_halton.plot(ax=axes[0])\n",
    "cleaned_hamilton2.plot(ax=axes[1])\n",
    "fig2.supxlabel(\"January 2022 Days\", size=14)\n",
    "fig2.supylabel(\"Number of COVID Cases\", size=14)\n",
    "fig2.suptitle(\"Number of 2022 COVID Cases in the Halton region & Hamilton Region\", size=15)\n",
    "plt.savefig('TSQ3.jpg', dpi=300, format='jpg', bbox_inches = 'tight', transparent='false')\n",
    "plt.show()\n",
    "\n"
   ]
  },
  {
   "cell_type": "code",
   "execution_count": null,
   "id": "4b6c9626",
   "metadata": {},
   "outputs": [],
   "source": []
  }
 ],
 "metadata": {
  "kernelspec": {
   "display_name": "Python 3 (ipykernel)",
   "language": "python",
   "name": "python3"
  },
  "language_info": {
   "codemirror_mode": {
    "name": "ipython",
    "version": 3
   },
   "file_extension": ".py",
   "mimetype": "text/x-python",
   "name": "python",
   "nbconvert_exporter": "python",
   "pygments_lexer": "ipython3",
   "version": "3.8.12"
  }
 },
 "nbformat": 4,
 "nbformat_minor": 5
}
